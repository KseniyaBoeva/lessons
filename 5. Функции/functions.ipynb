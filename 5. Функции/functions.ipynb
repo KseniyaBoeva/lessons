{
 "cells": [
  {
   "cell_type": "markdown",
   "metadata": {},
   "source": [
    "Вы работаете секретарем и вам постоянно приходят различные документы. Вы должны быть очень внимательны, чтобы не потерять ни один документ. Каталог документов хранится в следующем виде:"
   ]
  },
  {
   "cell_type": "code",
   "execution_count": 1,
   "metadata": {},
   "outputs": [],
   "source": [
    "documents = [\n",
    "    {'type': 'passport', 'number': '2207 876234', 'name': 'Василий Гупкин'},\n",
    "    {'type': 'invoice', 'number': '11-2', 'name': 'Геннадий Покемонов'},\n",
    "    {'type': 'insurance', 'number': '10006', 'name': 'Аристарх Павлов'}  \n",
    "]"
   ]
  },
  {
   "cell_type": "markdown",
   "metadata": {},
   "source": [
    "Перечень полок, на которых находятся документы хранится в следующем виде:"
   ]
  },
  {
   "cell_type": "code",
   "execution_count": 2,
   "metadata": {},
   "outputs": [
    {
     "name": "stdout",
     "output_type": "stream",
     "text": [
      "['2207 876234', '11-2']\n"
     ]
    }
   ],
   "source": [
    "directories = {\n",
    "    '1': ['2207 876234','11-2'],\n",
    "    '2': ['10006'],\n",
    "    '3': []\n",
    "}\n",
    "\n",
    "print(directories['1'])"
   ]
  },
  {
   "cell_type": "markdown",
   "metadata": {},
   "source": [
    "Необходимо реализовать пользовательские команды (внимание! это не название функций, которые должны быть выразительными, а команды, которые вводит пользователь, чтобы получить необходимый результат):\n",
    "  \n",
    "- p – people – команда, которая спросит номер документа и выведет имя человека, которому он принадлежит;  \n",
    "- s – shelf – команда, которая спросит номер документа и выведет номер полки, на которой он находится  \n",
    "*Правильно обработайте ситуации, когда пользователь будет вводить несуществующий документ*.\n",
    "- l – list – команда, которая выведет список всех документов в формате   \n",
    "**passport \"2207 876234\" \"Василий Гупкин\"**  \n",
    "- as – add shelf – команда, которая спросит номер новой полки и добавит ее в перечень. *Предусмотрите случай, когда пользователь добавляет полку, которая уже существует*.\n",
    "- d – delete – команда, которая спросит номер документа и удалит его из каталога и из перечня полок. *Предусмотрите сценарий, когда пользователь вводит несуществующий документ*;  \n",
    "- m – move – команда, которая спросит номер документа и целевую полку и переместит его с текущей полки на целевую. *Корректно обработайте кейсы, когда пользователь пытается переместить несуществующий документ или переместить документ на несуществующую полку*;  \n",
    "- a – add – команда, которая добавит новый документ в каталог и в перечень полок, спросив его номер, тип, имя владельца и номер полки, на котором он будет храниться. *Корректно обработайте ситуацию, когда пользователь будет пытаться добавить документ на несуществующую полку*."
   ]
  },
  {
   "cell_type": "code",
   "execution_count": 26,
   "metadata": {},
   "outputs": [],
   "source": [
    "def people():\n",
    "    doc_number = input('Введите номер документа: ')\n",
    "    name       = ''\n",
    "    for doc in documents:\n",
    "        if doc['number'] == doc_number:   \n",
    "            name = doc['name']\n",
    "            break;\n",
    "  \n",
    "    if name == '': \n",
    "        print('Документ не найден')\n",
    "    else:\n",
    "        print(name)\n",
    "        "
   ]
  },
  {
   "cell_type": "code",
   "execution_count": 27,
   "metadata": {},
   "outputs": [],
   "source": [
    "def search_shelf(doc_number):\n",
    "    finded_shelf = ''\n",
    "    for shelf, docs in directories.items():\n",
    "        for doc in docs:\n",
    "            if doc == doc_number:\n",
    "                finded_shelf = shelf\n",
    "                break;\n",
    "                \n",
    "    return finded_shelf\n",
    "    \n",
    "    \n",
    "def shelf():\n",
    "    finded_shelf = search_shelf( input('Введите номер документа: ') )\n",
    "                \n",
    "    if finded_shelf == '': \n",
    "        print('Документ не найден')\n",
    "    else:\n",
    "        print(f'Документ {doc_number} находится на полке №: {finded_shelf}')"
   ]
  },
  {
   "cell_type": "code",
   "execution_count": 28,
   "metadata": {},
   "outputs": [],
   "source": [
    "def docs():    \n",
    "    for doc in documents:     \n",
    "        doc_attributes = ''\n",
    "        for i, attribute in enumerate(doc.values()):\n",
    "            if i == 0:\n",
    "                doc_attributes = doc_attributes + f' {attribute}'\n",
    "            else:\n",
    "                doc_attributes = doc_attributes + f' \"{attribute}\"'\n",
    "                \n",
    "        print(doc_attributes)        "
   ]
  },
  {
   "cell_type": "code",
   "execution_count": 29,
   "metadata": {},
   "outputs": [],
   "source": [
    "def addShelf():\n",
    "    new_shelf = input('Введите номер новой полки: ')\n",
    "    if new_shelf in directories:\n",
    "        print('Такая полка уже существует')\n",
    "    else:\n",
    "        directories[new_shelf] = []        "
   ]
  },
  {
   "cell_type": "code",
   "execution_count": 30,
   "metadata": {},
   "outputs": [],
   "source": [
    "def delete_from_shelf(del_doc):\n",
    "    for docs in directories.values():\n",
    "        for doc in docs:\n",
    "            if doc == del_doc:\n",
    "                docs.remove(doc)\n",
    "    \n",
    "def delete():\n",
    "    del_doc = input('Введите номер документа для удаления: ')\n",
    "    print(documents)\n",
    "    finded = False;   \n",
    "    for doc in documents:\n",
    "        if doc['number'] == del_doc:\n",
    "            documents.remove(doc)\n",
    "            finded = True\n",
    "            \n",
    "    delete_from_shelf(del_doc)\n",
    "    \n",
    "    if not finded:\n",
    "        print(\"Документ не найден\")\n",
    "        \n",
    "    print(documents)"
   ]
  },
  {
   "cell_type": "code",
   "execution_count": 31,
   "metadata": {},
   "outputs": [],
   "source": [
    "def move():\n",
    "    doc               = input('Введите номер документа: ')\n",
    "    destination_shelf = input('Введите номер полки куда переместить документ: ')\n",
    "    source_shelf      = search_shelf(doc)\n",
    "    \n",
    "    if source_shelf == '': \n",
    "        print('Документ с таким номером не найден')\n",
    "        return\n",
    "    \n",
    "    if not (destination_shelf in directories):\n",
    "        print('Полка с таким номером не найдена')\n",
    "        return\n",
    "    \n",
    "    delete_from_shelf(doc)\n",
    "    \n",
    "    directories[destination_shelf].append(doc)"
   ]
  },
  {
   "cell_type": "code",
   "execution_count": 3,
   "metadata": {},
   "outputs": [],
   "source": [
    "def add():\n",
    "    add_shelf = input('введите номер полки куда добавить документ')    \n",
    "    if not (add_shelf in directories):\n",
    "        print('неверно указан номер полки')\n",
    "        return\n",
    "\n",
    "    doc      = input('введите номер документа: ')\n",
    "    doc_type = input('введите тип документа: ')\n",
    "    owner    = input('введите имя владельца документа: ')\n",
    "    new_doc = {'type': doc_type, 'number': doc, 'name': owner} \n",
    "    documents.append(new_doc)\n",
    "    directories[add_shelf].append(doc)"
   ]
  },
  {
   "cell_type": "code",
   "execution_count": 7,
   "metadata": {},
   "outputs": [
    {
     "name": "stdin",
     "output_type": "stream",
     "text": [
      "Введите команду:  a\n",
      "введите номер полки куда добавить документ 9\n"
     ]
    },
    {
     "name": "stdout",
     "output_type": "stream",
     "text": [
      "неверно указан номер полки\n"
     ]
    }
   ],
   "source": [
    "#----------------------------------\n",
    "command = input('Введите команду: ')\n",
    "\n",
    "if command == 'p':\n",
    "    people()\n",
    "elif command == 's':\n",
    "    shelf()\n",
    "elif command == 'l':\n",
    "    docs()\n",
    "elif command == 'as':\n",
    "    addShelf()\n",
    "elif command == 'd':\n",
    "    delete()\n",
    "elif command == 'm':\n",
    "    move()\n",
    "elif command == 'a':\n",
    "    add()    \n",
    "else:\n",
    "    print('Введена не верная команда')    "
   ]
  },
  {
   "cell_type": "code",
   "execution_count": 5,
   "metadata": {},
   "outputs": [
    {
     "name": "stdout",
     "output_type": "stream",
     "text": [
      "{'1': ['2207 876234', '11-2'], '2': ['10006'], '3': ['1111']}\n"
     ]
    }
   ],
   "source": [
    "print(directories)"
   ]
  },
  {
   "cell_type": "code",
   "execution_count": 6,
   "metadata": {},
   "outputs": [
    {
     "name": "stdout",
     "output_type": "stream",
     "text": [
      "[{'type': 'passport', 'number': '2207 876234', 'name': 'Василий Гупкин'}, {'type': 'invoice', 'number': '11-2', 'name': 'Геннадий Покемонов'}, {'type': 'insurance', 'number': '10006', 'name': 'Аристарх Павлов'}, {'type': 'passport', 'number': '1111', 'name': 'Vit'}]\n"
     ]
    }
   ],
   "source": [
    "print(documents)"
   ]
  },
  {
   "cell_type": "code",
   "execution_count": null,
   "metadata": {},
   "outputs": [],
   "source": []
  }
 ],
 "metadata": {
  "kernelspec": {
   "display_name": "Python 3",
   "language": "python",
   "name": "python3"
  },
  "language_info": {
   "codemirror_mode": {
    "name": "ipython",
    "version": 3
   },
   "file_extension": ".py",
   "mimetype": "text/x-python",
   "name": "python",
   "nbconvert_exporter": "python",
   "pygments_lexer": "ipython3",
   "version": "3.7.6"
  }
 },
 "nbformat": 4,
 "nbformat_minor": 4
}
