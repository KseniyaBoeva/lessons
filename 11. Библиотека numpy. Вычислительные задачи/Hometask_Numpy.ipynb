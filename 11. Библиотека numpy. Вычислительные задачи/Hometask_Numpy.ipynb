{
 "cells": [
  {
   "cell_type": "markdown",
   "metadata": {},
   "source": [
    "#### **Задание 1**\n",
    "Создайте numpy array с элементами от числа N до 0\n",
    "\n",
    "(например, для `N = 10` это будет array`([9, 8, 7, 6, 5, 4, 3, 2, 1, 0])`)."
   ]
  },
  {
   "cell_type": "code",
   "execution_count": 5,
   "metadata": {},
   "outputs": [
    {
     "name": "stdin",
     "output_type": "stream",
     "text": [
      "Введите количество элементов массива:  5\n"
     ]
    },
    {
     "name": "stdout",
     "output_type": "stream",
     "text": [
      "[4 3 2 1 0]\n"
     ]
    }
   ],
   "source": [
    "import numpy as np\n",
    "\n",
    "N = input('Введите количество элементов массива: ')\n",
    "N = int(N)\n",
    "x = np.arange(N-1, -1, -1)\n",
    "print(x)"
   ]
  },
  {
   "cell_type": "markdown",
   "metadata": {},
   "source": [
    "#### **Задание 2**\n",
    "Создайте диагональную матрицу с элементами от N до 0. Посчитайте сумму ее значений на диагонали."
   ]
  },
  {
   "cell_type": "code",
   "execution_count": 9,
   "metadata": {},
   "outputs": [
    {
     "name": "stdin",
     "output_type": "stream",
     "text": [
      "Введите количество элементов матрицы:  6\n"
     ]
    },
    {
     "name": "stdout",
     "output_type": "stream",
     "text": [
      "[[5. 0. 0. 0. 0. 0.]\n",
      " [0. 4. 0. 0. 0. 0.]\n",
      " [0. 0. 3. 0. 0. 0.]\n",
      " [0. 0. 0. 2. 0. 0.]\n",
      " [0. 0. 0. 0. 1. 0.]\n",
      " [0. 0. 0. 0. 0. 0.]]\n",
      "Сумма элементов диагонали матрицы:  15\n"
     ]
    }
   ],
   "source": [
    "import numpy as np\n",
    "\n",
    "N = input('Введите количество элементов матрицы: ')\n",
    "N = int(N)\n",
    "\n",
    "one      = np.eye(N)\n",
    "diag     = np.arange(N-1, -1, -1)\n",
    "m        = one * diag \n",
    "diag_sum = np.sum(diag)\n",
    "\n",
    "print(m)\n",
    "print('Сумма элементов диагонали матрицы: ', diag_sum)"
   ]
  },
  {
   "cell_type": "markdown",
   "metadata": {},
   "source": [
    "#### **Задание 3**\n",
    "Решите систему уравнений: \n",
    "\n",
    "`4x + 2y + z = 4`\n",
    "\n",
    "`x + 3y = 12`\n",
    "\n",
    "`5y + 4z = -3`"
   ]
  },
  {
   "cell_type": "code",
   "execution_count": 12,
   "metadata": {},
   "outputs": [
    {
     "name": "stdout",
     "output_type": "stream",
     "text": [
      "[ 0.46666667  3.84444444 -5.55555556]\n"
     ]
    }
   ],
   "source": [
    "import numpy as np\n",
    "from numpy import linalg\n",
    "\n",
    "l = np.array([[4, 2, 1],[1, 3, 0],[0, 5, 4]])\n",
    "r = np.array([4, 12, -3])\n",
    "solve = linalg.solve(l,r)\n",
    "print(solve)"
   ]
  },
  {
   "cell_type": "code",
   "execution_count": 13,
   "metadata": {},
   "outputs": [
    {
     "data": {
      "text/plain": [
       "4.0"
      ]
     },
     "execution_count": 13,
     "metadata": {},
     "output_type": "execute_result"
    }
   ],
   "source": [
    "4*0.46666667 + 2*  3.84444444 -5.55555556    "
   ]
  },
  {
   "cell_type": "code",
   "execution_count": 14,
   "metadata": {},
   "outputs": [
    {
     "data": {
      "text/plain": [
       "11.999999990000001"
      ]
     },
     "execution_count": 14,
     "metadata": {},
     "output_type": "execute_result"
    }
   ],
   "source": [
    "0.46666667 + 3*3.84444444"
   ]
  },
  {
   "cell_type": "code",
   "execution_count": 18,
   "metadata": {},
   "outputs": [
    {
     "data": {
      "text/plain": [
       "-3.0000000399999998"
      ]
     },
     "execution_count": 18,
     "metadata": {},
     "output_type": "execute_result"
    }
   ],
   "source": [
    "5*3.84444444 -4*5.55555556"
   ]
  },
  {
   "cell_type": "code",
   "execution_count": null,
   "metadata": {},
   "outputs": [],
   "source": []
  }
 ],
 "metadata": {
  "kernelspec": {
   "display_name": "Python 3",
   "language": "python",
   "name": "python3"
  },
  "language_info": {
   "codemirror_mode": {
    "name": "ipython",
    "version": 3
   },
   "file_extension": ".py",
   "mimetype": "text/x-python",
   "name": "python",
   "nbconvert_exporter": "python",
   "pygments_lexer": "ipython3",
   "version": "3.7.6"
  }
 },
 "nbformat": 4,
 "nbformat_minor": 4
}
