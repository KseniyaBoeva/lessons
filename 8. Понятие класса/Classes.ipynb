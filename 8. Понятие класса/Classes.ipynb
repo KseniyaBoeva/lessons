{
 "cells": [
  {
   "cell_type": "markdown",
   "metadata": {},
   "source": [
    "**Задание 1**\n",
    "\n",
    "Напишите функцию, которая возвращает название валюты (поле **'Name'**) с максимальным значением курса с помощью сервиса https://www.cbr-xml-daily.ru/daily_json.js"
   ]
  },
  {
   "cell_type": "code",
   "execution_count": 52,
   "metadata": {},
   "outputs": [
    {
     "name": "stdout",
     "output_type": "stream",
     "text": [
      "СДР (специальные права заимствования)\n",
      "СДР (специальные права заимствования)\n"
     ]
    }
   ],
   "source": [
    "import requests\n",
    "\n",
    "def get_max_valute_name():\n",
    "    url = 'https://www.cbr-xml-daily.ru/daily_json.js'\n",
    "    response = requests.get(url).json()\n",
    "    valutes = response[\"Valute\"]\n",
    "    max_value = 0\n",
    "    for valute in valutes.values():\n",
    "        value = valute['Value']\n",
    "        if max_value < value:\n",
    "            max_value = value\n",
    "            name_valute = valute['Name']\n",
    "    return name_valute        \n",
    "\n",
    "print( get_max_valute_name() )"
   ]
  },
  {
   "cell_type": "markdown",
   "metadata": {},
   "source": [
    "**Задание 2**\n",
    "\n",
    "Добавьте в класс **Rate** параметр **diff** (со значениями **True** или **False**), который в случае значения **True** в методах курсов валют (**eur, usd** и т.д.) будет возвращать не курс валюты, а изменение по сравнению в прошлым значением. Считайте, **self.diff** будет принимать значение **True** только при возврате значения курса. При отображении всей информации о валюте он не используется."
   ]
  },
  {
   "cell_type": "code",
   "execution_count": null,
   "metadata": {},
   "outputs": [],
   "source": []
  },
  {
   "cell_type": "markdown",
   "metadata": {},
   "source": [
    "**Задание 3**\n",
    "\n",
    "Напишите класс **Designer**, который учитывает количество международных премий. Подсказки в коде занятия в разделе \"Домашнее задание задача 3\"."
   ]
  },
  {
   "cell_type": "code",
   "execution_count": null,
   "metadata": {},
   "outputs": [],
   "source": []
  }
 ],
 "metadata": {
  "kernelspec": {
   "display_name": "Python 3",
   "language": "python",
   "name": "python3"
  },
  "language_info": {
   "codemirror_mode": {
    "name": "ipython",
    "version": 3
   },
   "file_extension": ".py",
   "mimetype": "text/x-python",
   "name": "python",
   "nbconvert_exporter": "python",
   "pygments_lexer": "ipython3",
   "version": "3.7.6"
  }
 },
 "nbformat": 4,
 "nbformat_minor": 4
}
