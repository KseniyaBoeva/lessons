{
 "cells": [
  {
   "cell_type": "markdown",
   "metadata": {},
   "source": [
    "#### **Задание 1**\n",
    "Печатные газеты использовали свой формат дат для каждого выпуска. Для каждой газеты из списка напишите формат указанной даты для перевода в объект `datetime`:\n",
    "- The Moscow Times - Wednesday, October 2, 2002\n",
    "- The Guardian - Friday, 11.10.13\n",
    "- Daily News - Thursday, 18 August 1977"
   ]
  },
  {
   "cell_type": "code",
   "execution_count": 18,
   "metadata": {},
   "outputs": [
    {
     "name": "stdout",
     "output_type": "stream",
     "text": [
      "The Moscow Times\t- 2002-10-02 00:00:00 \n",
      "The Guardian\t\t- 2013-10-11 00:00:00 \n",
      "Daily News\t\t- 1977-08-18 00:00:00\n"
     ]
    }
   ],
   "source": [
    "import datetime\n",
    "\n",
    "mos_times_str = 'Wednesday, October 2, 2002'\n",
    "mos_times = datetime.datetime.strptime(mos_times_str, \"%A, %B %d, %Y\")\n",
    "\n",
    "guardian_str = 'Friday, 11.10.13'\n",
    "guardian = datetime.datetime.strptime(guardian_str, \"%A, %d.%m.%y\")\n",
    "\n",
    "daily_news_str = 'Thursday, 18 August 1977'\n",
    "daily_news = datetime.datetime.strptime(daily_news_str, \"%A, %d %B %Y\")\n",
    "\n",
    "print( 'The Moscow Times\\t-', mos_times, '\\nThe Guardian\\t\\t-', guardian, '\\nDaily News\\t\\t-', daily_news)"
   ]
  },
  {
   "cell_type": "markdown",
   "metadata": {},
   "source": [
    "#### **Задание 2**\n",
    "Дан поток дат в формате YYYY-MM-DD, в которых встречаются некорректные значения:\n",
    "`stream = ['2018-04-02', '2018-02-29', '2018-19-02']`\n",
    "\n",
    "Напишите функцию, которая проверяет эти даты на корректность. Т. е. для каждой даты возвращает **True** (дата корректна) или **False** (некорректная дата)."
   ]
  },
  {
   "cell_type": "code",
   "execution_count": 62,
   "metadata": {},
   "outputs": [
    {
     "name": "stdout",
     "output_type": "stream",
     "text": [
      "[True, False, False]\n"
     ]
    }
   ],
   "source": [
    "#------------------ Функция -----------------\n",
    "def check_date(date):\n",
    "    #проверка даты по формату через strptime\n",
    "    try:\n",
    "        datetime.datetime.strptime(date, \"%Y-%m-%d\")\n",
    "        return True \n",
    "    except:\n",
    "        return False \n",
    "\n",
    "\n",
    "#============== Программа ==================\n",
    "stream         = ['2018-04-02', '2018-02-29', '2018-19-02']\n",
    "checked_stream = []\n",
    "for date in stream:\n",
    "    checked_stream.append( check_date(date) )\n",
    "    \n",
    "print(checked_stream)    "
   ]
  },
  {
   "cell_type": "markdown",
   "metadata": {},
   "source": [
    "#### **Задание 3**\n",
    "Напишите функцию date_range, которая возвращает список дат за период от start_date до end_date. \n",
    "\n",
    "Даты должны вводиться в формате YYYY-MM-DD. В случае неверного формата или при start_date > end_date должен возвращаться пустой список.\n"
   ]
  },
  {
   "cell_type": "code",
   "execution_count": null,
   "metadata": {},
   "outputs": [],
   "source": []
  },
  {
   "cell_type": "markdown",
   "metadata": {},
   "source": [
    "#### **Задание 4 (бонусное)**\n",
    "\n",
    "Ваш коллега прислал код функции:\n",
    "\n",
    "```python\n",
    "DEFAULT_USER_COUNT = 3\n",
    "\n",
    "def delete_and_return_last_user(region, default_list=['A100', 'A101', 'A102']):\n",
    "\"\"\"\n",
    "Удаляет из списка default_list последнего пользователя\n",
    "и возвращает ID нового последнего пользователя.\n",
    "\"\"\"\n",
    "\n",
    "element_to_delete = default_list[-1]\n",
    "default_list.remove(element_to_delete)\n",
    "return default_list[DEFAULT_USER_COUNT-2]\n",
    "```\n",
    "При однократном вызове этой функции все работает корректно:\n",
    "`delete_and_return_last_user(1)`\n",
    "`A101`\n",
    "\n",
    "Однако, при повторном вызове получается ошибка **IndexError: list index out of range**.\n",
    "\n",
    "*Задание:*\n",
    "\n",
    "1. Что значит ошибка list index out of range?\n",
    "2. Почему при первом запуске функция работает корректно, а при втором - нет?\n"
   ]
  },
  {
   "cell_type": "code",
   "execution_count": null,
   "metadata": {},
   "outputs": [],
   "source": []
  }
 ],
 "metadata": {
  "kernelspec": {
   "display_name": "Python 3",
   "language": "python",
   "name": "python3"
  },
  "language_info": {
   "codemirror_mode": {
    "name": "ipython",
    "version": 3
   },
   "file_extension": ".py",
   "mimetype": "text/x-python",
   "name": "python",
   "nbconvert_exporter": "python",
   "pygments_lexer": "ipython3",
   "version": "3.7.6"
  }
 },
 "nbformat": 4,
 "nbformat_minor": 4
}
