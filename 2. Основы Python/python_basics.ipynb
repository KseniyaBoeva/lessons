{
 "cells": [
  {
   "cell_type": "markdown",
   "metadata": {},
   "source": [
    "**Задание 1**. Даны 2 строки: *long_phrase* и *short_phrase*. \n",
    "Напишите код, который проверяет действительно ли длинная фраза *long_phrase* длиннее короткой *short_phrase*. И выводит *True* или *False* в зависимости от результата сравнения."
   ]
  },
  {
   "cell_type": "code",
   "execution_count": 14,
   "metadata": {},
   "outputs": [],
   "source": [
    "long_phrase = 'Насколько проще было бы писать программы, если бы не заказчики'\n",
    "short_phrase = '640Кб должно хватить для любых задач. Билл Гейтс (по легенде)'"
   ]
  },
  {
   "cell_type": "code",
   "execution_count": 15,
   "metadata": {},
   "outputs": [
    {
     "name": "stdout",
     "output_type": "stream",
     "text": [
      "True\n"
     ]
    }
   ],
   "source": [
    "print( len(long_phrase) > len(short_phrase) )"
   ]
  },
  {
   "cell_type": "markdown",
   "metadata": {},
   "source": [
    "**Задание 2**. Дано значение объема файла в байтах (*в мегабайте 2^20 байт*). Напишите перевод этого значения в мегабайты в формате: \"*Объем файла равен 213.68Mb*\"."
   ]
  },
  {
   "cell_type": "code",
   "execution_count": 32,
   "metadata": {},
   "outputs": [
    {
     "name": "stdout",
     "output_type": "stream",
     "text": [
      "Объем файла равен 223.38Mb\n"
     ]
    }
   ],
   "source": [
    "size_b = 234234232\n",
    "size_mb = size_b/2**20\n",
    "print(f'Объем файла равен {size_mb:.2f}Mb')"
   ]
  },
  {
   "cell_type": "markdown",
   "metadata": {},
   "source": [
    "**Задание 3**. Разработать приложение для определения знака зодиака по дате рождения. Пример:\n",
    "\n",
    "Введите месяц: март\n",
    "\n",
    "Введите число: 6\n",
    "\n",
    "Вывод:\n",
    "Рыбы"
   ]
  },
  {
   "cell_type": "code",
   "execution_count": 1,
   "metadata": {},
   "outputs": [
    {
     "name": "stdout",
     "output_type": "stream",
     "text": [
      "Введите номер месяца: 7\n",
      "Введите день: 1\n",
      "рак\n"
     ]
    }
   ],
   "source": [
    "from datetime import date\n",
    "month    = int( input('Введите номер месяца: ') )\n",
    "day      = int( input('Введите день: ') )\n",
    "birthday = date(2000, month, day)\n",
    "if   date(2000,  3, 21 ) <= birthday <= date(2000,  4, 20 ):\n",
    "    print('овен')\n",
    "elif date(2000,  4, 21 ) <= birthday <= date(2000,  5, 21 ):\n",
    "    print('телец')\n",
    "elif date(2000,  5, 22 ) <= birthday <= date(2000,  6, 21 ):\n",
    "    print('близнецы')    \n",
    "elif date(2000,  6, 22 ) <= birthday <= date(2000,  7, 22 ):\n",
    "    print('рак')\n",
    "elif date(2000,  7, 23 ) <= birthday <= date(2000,  8, 21 ):\n",
    "    print('лев')\n",
    "elif date(2000,  8, 22 ) <= birthday <= date(2000,  9, 23 ):\n",
    "    print('дева')\n",
    "elif date(2000,  9, 24 ) <= birthday <= date(2000, 10, 23 ):\n",
    "    print('весы')\n",
    "elif date(2000, 10, 24 ) <= birthday <= date(2000, 11, 22 ):\n",
    "    print('скорпион')\n",
    "elif date(2000, 11, 23 ) <= birthday <= date(2000, 12, 22 ):\n",
    "    print('стрелец')\n",
    "elif date(2000, 12, 23 ) <= birthday <= date(2000,  1, 20 ):\n",
    "    print('козерог')\n",
    "elif date(2000,  1, 21 ) <= birthday <= date(2000,  2, 19 ):\n",
    "    print('водолей')\n",
    "elif date(2000,  2, 20 ) <= birthday <= date(2000,  3, 20 ):\n",
    "    print('рыбы')\n",
    "else:\n",
    "    print('неправильно указано дата')"
   ]
  },
  {
   "cell_type": "markdown",
   "metadata": {},
   "source": [
    "**Задание 4**. Нужно разработать приложение для финансового планирования.\n",
    "Приложение учитывает сколько уходит на ипотеку, \"на жизнь\" и сколько нужно отложить на пенсию.\n",
    "Пользователь вводит:\n",
    "- заработанную плату в месяц.\n",
    "- сколько процентов от ЗП уходит на ипотеку.\n",
    "- сколько процентов от ЗП уходит \"на жизнь\".\n",
    "- сколько раз приходит премия в год.\n",
    "\n",
    "Остальная часть заработанной платы откладывается на пенсию.\n",
    "\n",
    "Также пользователю приходит премия в размере зарплаты, от которой половина уходит на отпуск, а вторая половина откладывается.\n",
    "\n",
    "Программа должна учитывать сколько премий было в год.\n",
    "\n",
    "Нужно вывести сколько денег тратит пользователь на ипотеку и сколько он накопит за год.\n",
    "\n",
    "Пример:\n",
    "\n",
    "Введите заработанную плату в месяц: 100000\n",
    "\n",
    "Введите сколько процентов уходит на ипотеку: 30\n",
    "\n",
    "Введите сколько процентов уходит на жизнь: 50\n",
    "\n",
    "Введите количество премий за год: 2\n",
    "\n",
    "Вывод:\n",
    "На ипотеку было потрачено: 360000 рублей\n",
    "Было накоплено: 340000 рублей"
   ]
  },
  {
   "cell_type": "code",
   "execution_count": 15,
   "metadata": {},
   "outputs": [
    {
     "name": "stdout",
     "output_type": "stream",
     "text": [
      "Введите заработанную плату в месяц: 100000\n",
      "Введите сколько процентов уходит на ипотеку: 30\n",
      "Введите сколько процентов уходит на жизнь: 50\n",
      "Введите количество премий за год: 2\n",
      "На ипотеку было потрачено: 360000 рублей Было накоплено: 340000 рублей\n"
     ]
    }
   ],
   "source": [
    "salary       = int( input('Введите заработанную плату в месяц: ') )\n",
    "mort_percent = int( input('Введите сколько процентов уходит на ипотеку: ') )\n",
    "life_percent = int( input('Введите сколько процентов уходит на жизнь: ') )\n",
    "bonus_count  = int( input('Введите количество премий за год: ') )\n",
    "\n",
    "salary_year   = salary * 12                    # зп за год\n",
    "mort_expenses = salary_year * mort_percent/100 # расходы на ипотеку\n",
    "life_expenses = salary_year * life_percent/100 # расходы на жизнь\n",
    "bonus_income  = bonus_count * salary           # премия за год\n",
    "holiday       = bonus_income * 0.5             # расходы на отпуск за год\n",
    "capital       = bonus_income - holiday + (salary_year - life_expenses - mort_expenses)  # накоплено\n",
    "\n",
    "print(f'На ипотеку было потрачено: {mort_expenses:.0f} рублей Было накоплено: {capital:.0f} рублей')"
   ]
  },
  {
   "cell_type": "code",
   "execution_count": null,
   "metadata": {},
   "outputs": [],
   "source": []
  }
 ],
 "metadata": {
  "kernelspec": {
   "display_name": "Python 3",
   "language": "python",
   "name": "python3"
  },
  "language_info": {
   "codemirror_mode": {
    "name": "ipython",
    "version": 3
   },
   "file_extension": ".py",
   "mimetype": "text/x-python",
   "name": "python",
   "nbconvert_exporter": "python",
   "pygments_lexer": "ipython3",
   "version": "3.7.6"
  }
 },
 "nbformat": 4,
 "nbformat_minor": 2
}
