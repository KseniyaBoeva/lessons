{
 "cells": [
  {
   "cell_type": "markdown",
   "metadata": {},
   "source": [
    "# Домашнее задание к лекции \"Визуализация данных\""
   ]
  },
  {
   "cell_type": "markdown",
   "metadata": {},
   "source": [
    "## Обязательная часть\n",
    "\n",
    "Вам необходимо провести базовый [EDA](https://en.wikipedia.org/wiki/Exploratory_data_analysis) выбранного набора данных. \n",
    "\n",
    "Требования к анализу:\n",
    "- построить не менее 4 визуализаций различных видов;\n",
    "- каждая визуализация должным образом оформлена и читается даже в отрыве от контекста; \n",
    "- по каждой визуализации необходимо написать вывод (какую гипотезу на ее основе можно выдвинуть?).\n",
    "\n",
    "**Откуда брать данные?**\n",
    "\n",
    "Можете взять свои рабочие данные, либо найти открытые данные (например, на [kaggle.com](https://www.kaggle.com/)) по интересующей вас предметной области (тогда не забудьте их выложить на github вместе с ноутбуком). Если идей нет, можете взять один из перечисленных ниже:\n",
    "- [данные приложений из Google Play](https://www.kaggle.com/lava18/google-play-store-apps);\n",
    "- [данные о видео из трендов YouTube](https://www.kaggle.com/datasnaek/youtube-new);\n",
    "- [данные об уровне счастья в разных странах](https://www.kaggle.com/unsdsn/world-happiness);\n",
    "- [данные по фильмам и сериалам Netflix](https://www.kaggle.com/shivamb/netflix-shows)."
   ]
  },
  {
   "cell_type": "markdown",
   "metadata": {},
   "source": [
    "### Дополнительная часть (необязательная)\n",
    "\n",
    "* построить дополнительно не менее 2 визуализаций (итого не менее 6);\n",
    "* в работе должны присутствовать следующие визуализации: boxplot, heatmap, scatter plot matrix;\n",
    "* не менее двух визуализаций должны быть интерактивными."
   ]
  },
  {
   "cell_type": "markdown",
   "metadata": {},
   "source": [
    "#### ПРИМЕЧАНИЕ\n",
    "Домашнее задание сдается ссылкой на репозиторий [GitHub](https://github.com/).\n",
    "Не сможем проверить или помочь, если вы пришлете:\n",
    "- файлы;\n",
    "- архивы;\n",
    "- скриншоты кода.\n",
    "\n",
    "Все обсуждения и консультации по выполнению домашнего задания ведутся только на соответствующем канале в slack.\n",
    "\n",
    "##### Как правильно задавать вопросы аспирантам, преподавателям и коллегам\n",
    "Прежде чем задать вопрос, попробуйте найти ответ в интернете. Навык самостоятельного поиска информации — один из важнейших. Каждый практикующий специалист любого уровня делает это ежедневно.\n",
    "\n",
    "Сформулируйте вопрос по алгоритму:  \n",
    "1) Что я делаю?  \n",
    "2) Какого результата я ожидаю?  \n",
    "3) Как фактический результат отличается от ожидаемого?  \n",
    "4) Что я уже попробовал сделать, чтобы исправить проблему?  \n",
    "\n",
    "По возможности прикрепите к вопросу скриншоты либо ссылки на код. Не выкладывайте все решение, оставляйте только проблемный и воспроизводимый участок кода."
   ]
  },
  {
   "cell_type": "code",
   "execution_count": 45,
   "metadata": {},
   "outputs": [
    {
     "data": {
      "image/png": "[encoded data removed]",
      "text/plain": [
       "<Figure size 432x288 with 1 Axes>"
      ]
     },
     "metadata": {
      "needs_background": "light"
     },
     "output_type": "display_data"
    }
   ],
   "source": [
    "import pandas as pd\n",
    "import seaborn as sb\n",
    "from matplotlib import pyplot as plt\n",
    "\n",
    "df_av_trans = pd.read_csv('avia_trans_volume.csv')\n",
    "df_airp_pas = pd.read_csv('airports_passengers.csv')\n",
    "\n",
    "df_av_trans[['МВЛ','ВВЛ']]\n",
    "\n",
    "plt.title('A Multiseries Bar Chart', fontsize=20)\n",
    "bw = 0.4\n",
    "x = pd.Series(range(0, 8))\n",
    "plt.bar(x,    df_av_trans['МВЛ'], bw, color = 'blue', edgecolor = 'black', label = 'МВЛ')\n",
    "plt.bar(x+bw, df_av_trans['ВВЛ'], bw, color = 'red',  edgecolor = 'black', label = 'ВВЛ')\n",
    "plt.title('Объемы перевозок через аэропорты России за январь-август 2020 года', fontsize=13)\n",
    "plt.xticks(x, df_av_trans['Период'])\n",
    "plt.legend(loc=2)\n",
    "\n",
    "plt.show()\n",
    "\n",
    "# sns.distplot(df_av_trans['Период'], hist=True, kde=False, \n",
    "#              bins=int(180/5), color = 'blue',\n",
    "#              hist_kws={'edgecolor':'black'})"
   ]
  },
  {
   "cell_type": "code",
   "execution_count": null,
   "metadata": {},
   "outputs": [],
   "source": []
  }
 ],
 "metadata": {
  "kernelspec": {
   "display_name": "Python 3",
   "language": "python",
   "name": "python3"
  },
  "language_info": {
   "codemirror_mode": {
    "name": "ipython",
    "version": 3
   },
   "file_extension": ".py",
   "mimetype": "text/x-python",
   "name": "python",
   "nbconvert_exporter": "python",
   "pygments_lexer": "ipython3",
   "version": "3.7.5"
  }
 },
 "nbformat": 4,
 "nbformat_minor": 4
}
