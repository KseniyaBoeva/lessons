{
 "cells": [
  {
   "cell_type": "markdown",
   "metadata": {},
   "source": [
    "1. Загрузите файл `HR.csv` в pandas dataframe"
   ]
  },
  {
   "cell_type": "code",
   "execution_count": 163,
   "metadata": {},
   "outputs": [
    {
     "data": {
      "text/html": [
       "<div>\n",
       "<style scoped>\n",
       "    .dataframe tbody tr th:only-of-type {\n",
       "        vertical-align: middle;\n",
       "    }\n",
       "\n",
       "    .dataframe tbody tr th {\n",
       "        vertical-align: top;\n",
       "    }\n",
       "\n",
       "    .dataframe thead th {\n",
       "        text-align: right;\n",
       "    }\n",
       "</style>\n",
       "<table border=\"1\" class=\"dataframe\">\n",
       "  <thead>\n",
       "    <tr style=\"text-align: right;\">\n",
       "      <th></th>\n",
       "      <th>satisfaction_level</th>\n",
       "      <th>last_evaluation</th>\n",
       "      <th>number_project</th>\n",
       "      <th>average_montly_hours</th>\n",
       "      <th>time_spend_company</th>\n",
       "      <th>Work_accident</th>\n",
       "      <th>left</th>\n",
       "      <th>promotion_last_5years</th>\n",
       "      <th>department</th>\n",
       "      <th>salary</th>\n",
       "    </tr>\n",
       "  </thead>\n",
       "  <tbody>\n",
       "    <tr>\n",
       "      <th>0</th>\n",
       "      <td>0.38</td>\n",
       "      <td>0.53</td>\n",
       "      <td>2</td>\n",
       "      <td>157</td>\n",
       "      <td>3</td>\n",
       "      <td>0</td>\n",
       "      <td>1</td>\n",
       "      <td>0</td>\n",
       "      <td>sales</td>\n",
       "      <td>low</td>\n",
       "    </tr>\n",
       "    <tr>\n",
       "      <th>1</th>\n",
       "      <td>0.80</td>\n",
       "      <td>0.86</td>\n",
       "      <td>5</td>\n",
       "      <td>262</td>\n",
       "      <td>6</td>\n",
       "      <td>0</td>\n",
       "      <td>1</td>\n",
       "      <td>0</td>\n",
       "      <td>sales</td>\n",
       "      <td>medium</td>\n",
       "    </tr>\n",
       "    <tr>\n",
       "      <th>2</th>\n",
       "      <td>0.11</td>\n",
       "      <td>0.88</td>\n",
       "      <td>7</td>\n",
       "      <td>272</td>\n",
       "      <td>4</td>\n",
       "      <td>0</td>\n",
       "      <td>1</td>\n",
       "      <td>0</td>\n",
       "      <td>sales</td>\n",
       "      <td>medium</td>\n",
       "    </tr>\n",
       "    <tr>\n",
       "      <th>3</th>\n",
       "      <td>0.72</td>\n",
       "      <td>0.87</td>\n",
       "      <td>5</td>\n",
       "      <td>223</td>\n",
       "      <td>5</td>\n",
       "      <td>0</td>\n",
       "      <td>1</td>\n",
       "      <td>0</td>\n",
       "      <td>sales</td>\n",
       "      <td>low</td>\n",
       "    </tr>\n",
       "    <tr>\n",
       "      <th>4</th>\n",
       "      <td>0.37</td>\n",
       "      <td>0.52</td>\n",
       "      <td>2</td>\n",
       "      <td>159</td>\n",
       "      <td>3</td>\n",
       "      <td>0</td>\n",
       "      <td>1</td>\n",
       "      <td>0</td>\n",
       "      <td>sales</td>\n",
       "      <td>low</td>\n",
       "    </tr>\n",
       "  </tbody>\n",
       "</table>\n",
       "</div>"
      ],
      "text/plain": [
       "   satisfaction_level  last_evaluation  number_project  average_montly_hours  \\\n",
       "0                0.38             0.53               2                   157   \n",
       "1                0.80             0.86               5                   262   \n",
       "2                0.11             0.88               7                   272   \n",
       "3                0.72             0.87               5                   223   \n",
       "4                0.37             0.52               2                   159   \n",
       "\n",
       "   time_spend_company  Work_accident  left  promotion_last_5years department  \\\n",
       "0                   3              0     1                      0      sales   \n",
       "1                   6              0     1                      0      sales   \n",
       "2                   4              0     1                      0      sales   \n",
       "3                   5              0     1                      0      sales   \n",
       "4                   3              0     1                      0      sales   \n",
       "\n",
       "   salary  \n",
       "0     low  \n",
       "1  medium  \n",
       "2  medium  \n",
       "3     low  \n",
       "4     low  "
      ]
     },
     "execution_count": 163,
     "metadata": {},
     "output_type": "execute_result"
    }
   ],
   "source": [
    "import pandas as pd\n",
    "\n",
    "df_hr = pd.read_csv('HR.csv')\n",
    "df_hr.head()"
   ]
  },
  {
   "cell_type": "markdown",
   "metadata": {},
   "source": [
    "2. Рассчитайте основные статистики для переменных\n",
    "(среднее,медиана,мода,мин/макс,сред.отклонение).\n"
   ]
  },
  {
   "cell_type": "code",
   "execution_count": 149,
   "metadata": {},
   "outputs": [
    {
     "name": "stdout",
     "output_type": "stream",
     "text": [
      "Среднее:\n",
      "satisfaction_level         0.612834\n",
      "last_evaluation            0.716102\n",
      "number_project             3.803054\n",
      "average_montly_hours     201.050337\n",
      "time_spend_company         3.498233\n",
      "Work_accident              0.144610\n",
      "left                       0.238083\n",
      "promotion_last_5years      0.021268\n",
      "dtype: float64\n",
      "\n",
      "Медиана:\n",
      "satisfaction_level         0.64\n",
      "last_evaluation            0.72\n",
      "number_project             4.00\n",
      "average_montly_hours     200.00\n",
      "time_spend_company         3.00\n",
      "Work_accident              0.00\n",
      "left                       0.00\n",
      "promotion_last_5years      0.00\n",
      "dtype: float64\n",
      "\n",
      "Минимальное:\n",
      "satisfaction_level       0.09\n",
      "last_evaluation          0.36\n",
      "number_project              2\n",
      "average_montly_hours       96\n",
      "time_spend_company          2\n",
      "Work_accident               0\n",
      "left                        0\n",
      "promotion_last_5years       0\n",
      "department                 IT\n",
      "salary                   high\n",
      "dtype: object\n",
      "\n",
      "Максимальное:\n",
      "satisfaction_level               1\n",
      "last_evaluation                  1\n",
      "number_project                   7\n",
      "average_montly_hours           310\n",
      "time_spend_company              10\n",
      "Work_accident                    1\n",
      "left                             1\n",
      "promotion_last_5years            1\n",
      "department               technical\n",
      "salary                      medium\n",
      "dtype: object\n",
      "\n",
      "Среднее отклонение:\n",
      "satisfaction_level        0.206911\n",
      "last_evaluation           0.150389\n",
      "number_project            1.008344\n",
      "average_montly_hours     43.671320\n",
      "time_spend_company        1.076123\n",
      "Work_accident             0.247395\n",
      "left                      0.362798\n",
      "promotion_last_5years     0.041632\n",
      "dtype: float64\n",
      "\n",
      "Мода:\n",
      "   satisfaction_level  last_evaluation  number_project  average_montly_hours  \\\n",
      "0                 0.1             0.55             4.0                   135   \n",
      "1                 NaN              NaN             NaN                   156   \n",
      "\n",
      "   time_spend_company  Work_accident  left  promotion_last_5years department  \\\n",
      "0                 3.0            0.0   0.0                    0.0      sales   \n",
      "1                 NaN            NaN   NaN                    NaN        NaN   \n",
      "\n",
      "  salary  \n",
      "0    low  \n",
      "1    NaN  \n"
     ]
    }
   ],
   "source": [
    "print('Среднее:')\n",
    "print(df_hr.mean())\n",
    "print('\\nМедиана:')\n",
    "print(df_hr.median())\n",
    "print('\\nМинимальное:')\n",
    "print(df_hr.min())\n",
    "print('\\nМаксимальное:')\n",
    "print(df_hr.max())\n",
    "print('\\nСреднее отклонение:')\n",
    "print(df_hr.mad())\n",
    "print('\\nМода:')\n",
    "print(df_hr.mode())"
   ]
  },
  {
   "cell_type": "markdown",
   "metadata": {},
   "source": [
    "4. Рассчитайте сколько сотрудников работает в каждом департаменте"
   ]
  },
  {
   "cell_type": "code",
   "execution_count": 150,
   "metadata": {},
   "outputs": [
    {
     "data": {
      "text/html": [
       "<div>\n",
       "<style scoped>\n",
       "    .dataframe tbody tr th:only-of-type {\n",
       "        vertical-align: middle;\n",
       "    }\n",
       "\n",
       "    .dataframe tbody tr th {\n",
       "        vertical-align: top;\n",
       "    }\n",
       "\n",
       "    .dataframe thead th {\n",
       "        text-align: right;\n",
       "    }\n",
       "</style>\n",
       "<table border=\"1\" class=\"dataframe\">\n",
       "  <thead>\n",
       "    <tr style=\"text-align: right;\">\n",
       "      <th></th>\n",
       "      <th>employees_num</th>\n",
       "    </tr>\n",
       "    <tr>\n",
       "      <th>department</th>\n",
       "      <th></th>\n",
       "    </tr>\n",
       "  </thead>\n",
       "  <tbody>\n",
       "    <tr>\n",
       "      <th>IT</th>\n",
       "      <td>1227</td>\n",
       "    </tr>\n",
       "    <tr>\n",
       "      <th>RandD</th>\n",
       "      <td>787</td>\n",
       "    </tr>\n",
       "    <tr>\n",
       "      <th>accounting</th>\n",
       "      <td>767</td>\n",
       "    </tr>\n",
       "    <tr>\n",
       "      <th>hr</th>\n",
       "      <td>739</td>\n",
       "    </tr>\n",
       "    <tr>\n",
       "      <th>management</th>\n",
       "      <td>630</td>\n",
       "    </tr>\n",
       "  </tbody>\n",
       "</table>\n",
       "</div>"
      ],
      "text/plain": [
       "            employees_num\n",
       "department               \n",
       "IT                   1227\n",
       "RandD                 787\n",
       "accounting            767\n",
       "hr                    739\n",
       "management            630"
      ]
     },
     "execution_count": 150,
     "metadata": {},
     "output_type": "execute_result"
    }
   ],
   "source": [
    "df_hr_empl = df_hr.pivot_table(index = 'department', values = 'satisfaction_level', aggfunc = 'count').head()\n",
    "df_hr_empl.rename(columns= {'satisfaction_level': 'employees_num'}, inplace = True)\n",
    "df_hr_empl"
   ]
  },
  {
   "cell_type": "markdown",
   "metadata": {},
   "source": [
    "5. Показать распределение сотрудников по зарплатам"
   ]
  },
  {
   "cell_type": "code",
   "execution_count": 151,
   "metadata": {},
   "outputs": [
    {
     "data": {
      "text/html": [
       "<div>\n",
       "<style scoped>\n",
       "    .dataframe tbody tr th:only-of-type {\n",
       "        vertical-align: middle;\n",
       "    }\n",
       "\n",
       "    .dataframe tbody tr th {\n",
       "        vertical-align: top;\n",
       "    }\n",
       "\n",
       "    .dataframe thead th {\n",
       "        text-align: right;\n",
       "    }\n",
       "</style>\n",
       "<table border=\"1\" class=\"dataframe\">\n",
       "  <thead>\n",
       "    <tr style=\"text-align: right;\">\n",
       "      <th></th>\n",
       "      <th>employees_num</th>\n",
       "    </tr>\n",
       "    <tr>\n",
       "      <th>salary</th>\n",
       "      <th></th>\n",
       "    </tr>\n",
       "  </thead>\n",
       "  <tbody>\n",
       "    <tr>\n",
       "      <th>high</th>\n",
       "      <td>1237</td>\n",
       "    </tr>\n",
       "    <tr>\n",
       "      <th>low</th>\n",
       "      <td>7316</td>\n",
       "    </tr>\n",
       "    <tr>\n",
       "      <th>medium</th>\n",
       "      <td>6446</td>\n",
       "    </tr>\n",
       "  </tbody>\n",
       "</table>\n",
       "</div>"
      ],
      "text/plain": [
       "        employees_num\n",
       "salary               \n",
       "high             1237\n",
       "low              7316\n",
       "medium           6446"
      ]
     },
     "execution_count": 151,
     "metadata": {},
     "output_type": "execute_result"
    }
   ],
   "source": [
    "df_hr_sal = df_hr.pivot_table(index = 'salary', values = 'satisfaction_level', aggfunc = 'count').head()\n",
    "df_hr_sal.rename(columns = {'satisfaction_level': 'employees_num'}, inplace=True)\n",
    "df_hr_sal"
   ]
  },
  {
   "cell_type": "markdown",
   "metadata": {},
   "source": [
    "6. Показать распределение сотрудников по зарплатам в каждом департаменте по отдельности"
   ]
  },
  {
   "cell_type": "code",
   "execution_count": 152,
   "metadata": {},
   "outputs": [
    {
     "data": {
      "text/html": [
       "<div>\n",
       "<style scoped>\n",
       "    .dataframe tbody tr th:only-of-type {\n",
       "        vertical-align: middle;\n",
       "    }\n",
       "\n",
       "    .dataframe tbody tr th {\n",
       "        vertical-align: top;\n",
       "    }\n",
       "\n",
       "    .dataframe thead th {\n",
       "        text-align: right;\n",
       "    }\n",
       "</style>\n",
       "<table border=\"1\" class=\"dataframe\">\n",
       "  <thead>\n",
       "    <tr style=\"text-align: right;\">\n",
       "      <th>department</th>\n",
       "      <th>IT</th>\n",
       "      <th>RandD</th>\n",
       "      <th>accounting</th>\n",
       "      <th>hr</th>\n",
       "      <th>management</th>\n",
       "      <th>marketing</th>\n",
       "      <th>product_mng</th>\n",
       "      <th>sales</th>\n",
       "      <th>support</th>\n",
       "      <th>technical</th>\n",
       "    </tr>\n",
       "    <tr>\n",
       "      <th>salary</th>\n",
       "      <th></th>\n",
       "      <th></th>\n",
       "      <th></th>\n",
       "      <th></th>\n",
       "      <th></th>\n",
       "      <th></th>\n",
       "      <th></th>\n",
       "      <th></th>\n",
       "      <th></th>\n",
       "      <th></th>\n",
       "    </tr>\n",
       "  </thead>\n",
       "  <tbody>\n",
       "    <tr>\n",
       "      <th>high</th>\n",
       "      <td>83</td>\n",
       "      <td>51</td>\n",
       "      <td>74</td>\n",
       "      <td>45</td>\n",
       "      <td>225</td>\n",
       "      <td>80</td>\n",
       "      <td>68</td>\n",
       "      <td>269</td>\n",
       "      <td>141</td>\n",
       "      <td>201</td>\n",
       "    </tr>\n",
       "    <tr>\n",
       "      <th>low</th>\n",
       "      <td>609</td>\n",
       "      <td>364</td>\n",
       "      <td>358</td>\n",
       "      <td>335</td>\n",
       "      <td>180</td>\n",
       "      <td>402</td>\n",
       "      <td>451</td>\n",
       "      <td>2099</td>\n",
       "      <td>1146</td>\n",
       "      <td>1372</td>\n",
       "    </tr>\n",
       "    <tr>\n",
       "      <th>medium</th>\n",
       "      <td>535</td>\n",
       "      <td>372</td>\n",
       "      <td>335</td>\n",
       "      <td>359</td>\n",
       "      <td>225</td>\n",
       "      <td>376</td>\n",
       "      <td>383</td>\n",
       "      <td>1772</td>\n",
       "      <td>942</td>\n",
       "      <td>1147</td>\n",
       "    </tr>\n",
       "  </tbody>\n",
       "</table>\n",
       "</div>"
      ],
      "text/plain": [
       "department   IT  RandD  accounting   hr  management  marketing  product_mng  \\\n",
       "salary                                                                        \n",
       "high         83     51          74   45         225         80           68   \n",
       "low         609    364         358  335         180        402          451   \n",
       "medium      535    372         335  359         225        376          383   \n",
       "\n",
       "department  sales  support  technical  \n",
       "salary                                 \n",
       "high          269      141        201  \n",
       "low          2099     1146       1372  \n",
       "medium       1772      942       1147  "
      ]
     },
     "execution_count": 152,
     "metadata": {},
     "output_type": "execute_result"
    }
   ],
   "source": [
    "df_hr_sal_dep = df_hr.pivot_table(index = 'salary', columns = 'department', values = 'satisfaction_level', aggfunc = 'count').head()\n",
    "df_hr_sal_dep.rename(columns = {'satisfaction_level': 'employees_num'}, inplace=True)\n",
    "df_hr_sal_dep"
   ]
  },
  {
   "cell_type": "markdown",
   "metadata": {},
   "source": [
    "7. Проверить гипотезу, что сотрудники с высоким окладом проводят на работе больше времени, чем сотрудники с низким окладом"
   ]
  },
  {
   "cell_type": "code",
   "execution_count": 153,
   "metadata": {},
   "outputs": [
    {
     "name": "stdout",
     "output_type": "stream",
     "text": [
      "        average_montly_hours\n",
      "salary                      \n",
      "high              199.867421\n",
      "low               200.996583\n",
      "medium            201.338349\n"
     ]
    },
    {
     "data": {
      "text/html": [
       "<div>\n",
       "<style scoped>\n",
       "    .dataframe tbody tr th:only-of-type {\n",
       "        vertical-align: middle;\n",
       "    }\n",
       "\n",
       "    .dataframe tbody tr th {\n",
       "        vertical-align: top;\n",
       "    }\n",
       "\n",
       "    .dataframe thead th {\n",
       "        text-align: right;\n",
       "    }\n",
       "</style>\n",
       "<table border=\"1\" class=\"dataframe\">\n",
       "  <thead>\n",
       "    <tr style=\"text-align: right;\">\n",
       "      <th></th>\n",
       "      <th>average_montly_hours</th>\n",
       "    </tr>\n",
       "    <tr>\n",
       "      <th>salary</th>\n",
       "      <th></th>\n",
       "    </tr>\n",
       "  </thead>\n",
       "  <tbody>\n",
       "    <tr>\n",
       "      <th>medium</th>\n",
       "      <td>201.338349</td>\n",
       "    </tr>\n",
       "  </tbody>\n",
       "</table>\n",
       "</div>"
      ],
      "text/plain": [
       "        average_montly_hours\n",
       "salary                      \n",
       "medium            201.338349"
      ]
     },
     "execution_count": 153,
     "metadata": {},
     "output_type": "execute_result"
    }
   ],
   "source": [
    "df_hr_hour = df_hr.pivot_table(index = 'salary',  values = 'average_montly_hours', aggfunc = 'mean').head()\n",
    "print(df_hr_hour)\n",
    "\n",
    "max_sal_hour = df_hr_hour.loc[df_hr_hour.average_montly_hours == max(df_hr_hour['average_montly_hours'])]\n",
    "max_sal_hour"
   ]
  },
  {
   "cell_type": "markdown",
   "metadata": {},
   "source": [
    "Работники со средним окладом проводят на работе больше времени, соответственно, гипотеза не верна."
   ]
  },
  {
   "cell_type": "code",
   "execution_count": null,
   "metadata": {},
   "outputs": [],
   "source": [
    "#df_hr.pivot_table(index =  'average_montly_hours', columns = 'salary', aggfunc = 'count',fill_value = 0).head()\n",
    "df_hr_piv= df_hr.pivot_table(index = ['average_montly_hours', 'salary'],values = 'department', aggfunc = 'count',fill_value = 1)#.head()\n",
    "df_hr_piv\n",
    "frame = pd.DataFrame(df_hr_piv)\n",
    "frame\n",
    "#frame['delta'] = frame['average_montly_hours']*frame['department']"
   ]
  },
  {
   "cell_type": "code",
   "execution_count": null,
   "metadata": {},
   "outputs": [],
   "source": [
    "df_hr_piv_cnt2 = df_hr[['average_montly_hours','salary','department']].groupby(['average_montly_hours','salary']).count()\n",
    "df_hr_piv_cnt2\n",
    "#df_hr[['average_montly_hours','salary','department']]"
   ]
  },
  {
   "cell_type": "markdown",
   "metadata": {},
   "source": [
    "8. Рассчитать следующие показатели среди уволившихся и не\n",
    "уволившихся сотрудников (по отдельности):\n",
    "\n",
    "* Доля сотрудников с повышением за последние 5 лет\n",
    "* Средняя степень удовлетворенности\n",
    "* Среднее количество проектов"
   ]
  },
  {
   "cell_type": "code",
   "execution_count": 172,
   "metadata": {},
   "outputs": [
    {
     "name": "stdout",
     "output_type": "stream",
     "text": [
      "Доля сотрудников с повышением за последние 5 лет среди уволившихся сотрудников:  0.00532%\n",
      "Доля сотрудников с повышением за последние 5 лет среди не уволившихся сотрудников:  0.0263% \n",
      "\n",
      "      avg_satisfaction_level\n",
      "left                        \n",
      "0                   0.666810\n",
      "1                   0.440098\n",
      "      avg_number_project\n",
      "left                    \n",
      "0               3.786664\n",
      "1               3.855503\n"
     ]
    }
   ],
   "source": [
    "#df_hr2 = df_hr[['left','promotion_last_5years']].groupby(['left']).count()\n",
    "\n",
    "#------------Доля сотрудников с повышением за последние 5 лет-------------------\n",
    "out = df_hr[df_hr.left==1]\n",
    "out_and_promo = out[out.promotion_last_5years==1].count()['left'] / out.count()['left']\n",
    "print('Доля сотрудников с повышением за последние 5 лет среди уволившихся сотрудников: ','{0:.3}%'.format(out_and_promo))\n",
    "      \n",
    "stay = df_hr[df_hr.left==0]\n",
    "stay_and_promo = stay[stay.promotion_last_5years==1].count()['left'] / stay.count()['left']\n",
    "print('Доля сотрудников с повышением за последние 5 лет среди не уволившихся сотрудников: ','{0:.3}%'.format(stay_and_promo),'\\n')\n",
    "#df_hr[['left', 'promotion_last_5years']].value_counts()\n",
    "\n",
    "#-------------Средняя степень удовлетворенности------------------------------------\n",
    "df_hr_stf = df_hr.pivot_table(index = 'left',  values = 'satisfaction_level', aggfunc = 'mean', fill_value = 0).head()\n",
    "df_hr_stf.rename(columns={'satisfaction_level': 'avg_satisfaction_level'}, inplace=True)\n",
    "print(df_hr_stf)\n",
    "\n",
    "#-------------Средняя степень удовлетворенности------------------------------------\n",
    "df_hr_prog = df_hr.pivot_table(index = 'left',  values = 'number_project', aggfunc = 'mean', fill_value = 0).head()\n",
    "df_hr_prog.rename(columns={'number_project': 'avg_number_project'}, inplace=True)\n",
    "print(df_hr_prog)"
   ]
  },
  {
   "cell_type": "code",
   "execution_count": null,
   "metadata": {},
   "outputs": [],
   "source": []
  }
 ],
 "metadata": {
  "kernelspec": {
   "display_name": "Python 3",
   "language": "python",
   "name": "python3"
  },
  "language_info": {
   "codemirror_mode": {
    "name": "ipython",
    "version": 3
   },
   "file_extension": ".py",
   "mimetype": "text/x-python",
   "name": "python",
   "nbconvert_exporter": "python",
   "pygments_lexer": "ipython3",
   "version": "3.7.5"
  }
 },
 "nbformat": 4,
 "nbformat_minor": 4
}
