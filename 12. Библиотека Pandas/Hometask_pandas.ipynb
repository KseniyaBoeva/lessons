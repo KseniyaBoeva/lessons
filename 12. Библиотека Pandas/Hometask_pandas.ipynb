{
 "cells": [
  {
   "cell_type": "markdown",
   "metadata": {},
   "source": [
    "#### **Задание 1**\n",
    "Скачайте с сайта https://grouplens.org/datasets/movielens/ датасет любого размера. Определите какому фильму было выставлено больше всего оценок 5.0."
   ]
  },
  {
   "cell_type": "code",
   "execution_count": 53,
   "metadata": {},
   "outputs": [
    {
     "name": "stdout",
     "output_type": "stream",
     "text": [
      "Было выставлено больше всего оценок 5.0 фильму:  153\n"
     ]
    }
   ],
   "source": [
    "import pandas as pd\n",
    "\n",
    "movies  = pd.read_csv('movies.csv')\n",
    "ratings = pd.read_csv('ratings.csv')\n",
    "\n",
    "ratings_5 = ratings[ratings.rating == 5.0 ]\n",
    "\n",
    "joined = ratings_5.merge(movies, on='movieId', how='left')\n",
    "\n",
    "ratings_5_counts = joined['title'].value_counts()\n",
    "\n",
    "ratings_5_counts_max = ratings_5_counts[ratings_5_counts == ratings_5_counts.max()]\n",
    "\n",
    "print('Было выставлено больше всего оценок 5.0 фильму: ', ratings_5_counts_max[0])"
   ]
  },
  {
   "cell_type": "markdown",
   "metadata": {},
   "source": [
    "#### **Задание 2**\n",
    "По данным файла `power.csv посчитайте суммарное потребление стран Прибалтики (Латвия, Литва и Эстония) категорий 4, 12 и 21 за период с 2005 по 2010 года. Не учитывайте в расчетах отрицательные значения quantity."
   ]
  },
  {
   "cell_type": "code",
   "execution_count": null,
   "metadata": {},
   "outputs": [],
   "source": []
  },
  {
   "cell_type": "code",
   "execution_count": 92,
   "metadata": {},
   "outputs": [
    {
     "name": "stdout",
     "output_type": "stream",
     "text": [
      "Суммарное потребление стран Прибалтики =  240580.0\n",
      "Суммарное потребление стран Прибалтики =  240580.0\n"
     ]
    }
   ],
   "source": [
    "import pandas as pd\n",
    "\n",
    "country_consume = pd.read_csv('power.csv')\n",
    "selected = country_consume[(country_consume.country == 'Latvia') | (country_consume.country == 'Estonia') | (country_consume.country == 'Lithuania')]\n",
    "selected = selected[(selected.category == 4) | (selected.category == 12) | (selected.category == 21) ]\n",
    "selected = selected[(selected.year >= 2005) & (selected.year <= 2010)]\n",
    "selected = selected[selected.quantity>=0]\n",
    "summary = selected.quantity.sum()\n",
    "print('Суммарное потребление стран Прибалтики = ', summary)\n",
    "\n",
    "#------------------------\n",
    "#через query\n",
    "\n",
    "country_consume = pd.read_csv('power.csv')\n",
    "filtered = country_consume.query(\"country in ('Latvia', 'Estonia', 'Lithuania') & category in (4, 12, 21) & year >= 2005 & year <= 2010 & quantity >= 0\")\n",
    "#filtered = filtered.groupby('country')\n",
    "summary_2 = filtered.quantity.sum()\n",
    "print('Суммарное потребление стран Прибалтики = ', summary_2)"
   ]
  },
  {
   "cell_type": "markdown",
   "metadata": {},
   "source": [
    "#### **Задание 3**\n",
    "Выберите страницу любого сайта с табличными данными. Импортируйте таблицы в `pandas dataframe`.\n",
    "Примеры страниц (необязательно брать именно эти):\n",
    "https://fortrader.org/quotes\n",
    "https://www.finanz.ru/valyuty/v-realnom-vremeni"
   ]
  },
  {
   "cell_type": "code",
   "execution_count": null,
   "metadata": {},
   "outputs": [],
   "source": []
  }
 ],
 "metadata": {
  "kernelspec": {
   "display_name": "Python 3",
   "language": "python",
   "name": "python3"
  },
  "language_info": {
   "codemirror_mode": {
    "name": "ipython",
    "version": 3
   },
   "file_extension": ".py",
   "mimetype": "text/x-python",
   "name": "python",
   "nbconvert_exporter": "python",
   "pygments_lexer": "ipython3",
   "version": "3.7.6"
  }
 },
 "nbformat": 4,
 "nbformat_minor": 4
}
